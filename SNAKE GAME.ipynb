{
 "cells": [
  {
   "cell_type": "code",
   "execution_count": 1,
   "id": "95d6480e",
   "metadata": {},
   "outputs": [],
   "source": [
    "from tkinter import *\n",
    "import random"
   ]
  },
  {
   "cell_type": "code",
   "execution_count": 2,
   "id": "d241d2c3",
   "metadata": {},
   "outputs": [],
   "source": [
    "GAME_WIDTH = 900\n",
    "GAME_HEIGHT = 700\n",
    "SPEED = 300\n",
    "SPACE_SIZE = 40\n",
    "BODY_PARTS = 3\n",
    "SNAKE_COLOR = \"#00FF00\"\n",
    "FOOD_COLOR = \"#3776ab\"\n",
    "BACKGROUND_COLOR = \"#000000\""
   ]
  },
  {
   "cell_type": "code",
   "execution_count": 3,
   "id": "2b4a3328",
   "metadata": {},
   "outputs": [],
   "source": [
    "class Snake:\n",
    "    def __init__(self):\n",
    "        self.body_size = BODY_PARTS\n",
    "        self.coordinates = []\n",
    "        self.square = []\n",
    "        \n",
    "        for i in range(0, BODY_PARTS):\n",
    "            self.coordinates.append([0, 0])\n",
    "            \n",
    "        for x, y in self.coordinates:\n",
    "            square = canvas.create_rectangle(x, y, x + SPACE_SIZE, y + SPACE_SIZE, fill = SNAKE_COLOR, tag = \"snake\")\n",
    "            self.square.append(square)"
   ]
  },
  {
   "cell_type": "code",
   "execution_count": 4,
   "id": "c5da023b",
   "metadata": {},
   "outputs": [],
   "source": [
    "class Food:\n",
    "    def __init__(self):\n",
    "        x = random.randint(0, (GAME_WIDTH // SPACE_SIZE) - 1) * SPACE_SIZE\n",
    "        y = random.randint(0, (GAME_HEIGHT // SPACE_SIZE) - 1) * SPACE_SIZE\n",
    "        self.coordinates = [x, y]\n",
    "        canvas.create_oval(x, y, x + SPACE_SIZE, y + SPACE_SIZE, fill=FOOD_COLOR, tag=\"food\")"
   ]
  },
  {
   "cell_type": "code",
   "execution_count": 5,
   "id": "0702e01b",
   "metadata": {},
   "outputs": [],
   "source": [
    "def next_turn(snake, food):\n",
    "    x, y = snake.coordinates[0]\n",
    "    \n",
    "    if direction == \"up\":\n",
    "        y -= SPACE_SIZE\n",
    "    elif direction == \"down\":\n",
    "        y += SPACE_SIZE\n",
    "    elif direction == \"left\":\n",
    "        x -= SPACE_SIZE\n",
    "    elif direction == \"right\":\n",
    "        x += SPACE_SIZE\n",
    "        \n",
    "    snake.coordinates.insert(0, (x, y))\n",
    "\n",
    "    \n",
    "    square = canvas.create_rectangle(x, y, x + SPACE_SIZE, y + SPACE_SIZE, fill = SNAKE_COLOR)\n",
    "    \n",
    "    snake.square.insert(0, square)\n",
    "    \n",
    "    if x == food.coordinates[0] and y == food.coordinates[-1]:\n",
    "        \n",
    "        global score\n",
    "        \n",
    "        score += 1\n",
    "        \n",
    "        label.config(text = \"Score:{}\".format(score))\n",
    "        \n",
    "        canvas.delete(\"food\")\n",
    "        \n",
    "        food = Food()\n",
    "        \n",
    "    else: \n",
    "        \n",
    "        del snake.coordinates[-1] \n",
    "        \n",
    "        canvas.delete(snake.square[-1])\n",
    "        \n",
    "        del snake.square[-1]\n",
    "        \n",
    "    if check_collisions(snake):\n",
    "        game_over()\n",
    "        \n",
    "    else:\n",
    "        \n",
    "        window.after(SPEED, next_turn, snake, food)\n",
    "    "
   ]
  },
  {
   "cell_type": "code",
   "execution_count": 6,
   "id": "80dc679b",
   "metadata": {},
   "outputs": [],
   "source": [
    "def change_direction(new_direction):\n",
    "    \n",
    "    global direction\n",
    "    \n",
    "    if new_direction == 'left':\n",
    "        if direction!= 'right':\n",
    "            direction = new_direction\n",
    "    elif new_direction == 'right':\n",
    "        if direction!= 'left':\n",
    "            direction = new_direction    \n",
    "    elif new_direction == 'up':\n",
    "        if direction!= 'down':\n",
    "            direction = new_direction\n",
    "    elif new_direction == 'down':\n",
    "        if direction!= 'up':\n",
    "            direction = new_direction\n",
    "    "
   ]
  },
  {
   "cell_type": "code",
   "execution_count": 7,
   "id": "1aff673a",
   "metadata": {},
   "outputs": [],
   "source": [
    "def check_collisions(snake):\n",
    "    \n",
    "    x, y = snake.coordinates[0]\n",
    "    \n",
    "    if x < 0 or x >= GAME_WIDTH:\n",
    "        print(\"GAME OVER\")\n",
    "        return True\n",
    "    elif y < 0 or y >= GAME_HEIGHT:\n",
    "        print(\"GAME OVER\")\n",
    "        return True\n",
    "    for body_part in snake.coordinates[1:]:\n",
    "        if x == body_part[0] and y == body_part[1]:\n",
    "            \n",
    "            print(\"GAME OVER\")\n",
    "            \n",
    "            return True\n",
    "        \n",
    "    return False"
   ]
  },
  {
   "cell_type": "code",
   "execution_count": 8,
   "id": "52d8a143",
   "metadata": {},
   "outputs": [],
   "source": [
    "def game_over():\n",
    "    canvas.delete(ALL)\n",
    "    canvas.create_text(canvas.winfo_width()/2, canvas.winfo_height()/2, font = ('consolas', 70), text = \"GAME OVER!\", fill = \"red\", tag = \"gameover\" )"
   ]
  },
  {
   "cell_type": "code",
   "execution_count": 9,
   "id": "e4197957",
   "metadata": {},
   "outputs": [
    {
     "data": {
      "text/plain": [
       "''"
      ]
     },
     "execution_count": 9,
     "metadata": {},
     "output_type": "execute_result"
    }
   ],
   "source": [
    "window = Tk()\n",
    "window.title(\"Snake game\")\n",
    "window.resizable(False, False)"
   ]
  },
  {
   "cell_type": "code",
   "execution_count": 10,
   "id": "28b97d70",
   "metadata": {},
   "outputs": [],
   "source": [
    "score = 0\n",
    "direction = 'down'"
   ]
  },
  {
   "cell_type": "code",
   "execution_count": 11,
   "id": "57a78b2d",
   "metadata": {},
   "outputs": [],
   "source": [
    "label = Label(window, text = \"Score:{}\".format(score), font=('consolas',40))\n",
    "label.pack()"
   ]
  },
  {
   "cell_type": "code",
   "execution_count": 12,
   "id": "d8e6f579",
   "metadata": {},
   "outputs": [],
   "source": [
    "canvas = Canvas(window, bg = BACKGROUND_COLOR, height = GAME_HEIGHT, width = GAME_WIDTH)\n",
    "canvas.pack()"
   ]
  },
  {
   "cell_type": "code",
   "execution_count": 13,
   "id": "6f00f895",
   "metadata": {},
   "outputs": [],
   "source": [
    "window.update()"
   ]
  },
  {
   "cell_type": "code",
   "execution_count": 14,
   "id": "6c2d0605",
   "metadata": {},
   "outputs": [],
   "source": [
    "window_width = window.winfo_width()\n",
    "window_height = window.winfo_height()\n",
    "screen_width = window.winfo_screenwidth()\n",
    "screen_height = window.winfo_screenheight()"
   ]
  },
  {
   "cell_type": "code",
   "execution_count": 15,
   "id": "5393f1cb",
   "metadata": {},
   "outputs": [],
   "source": [
    "x = int(screen_width/2) -(window_width/2)\n",
    "y = int(screen_height/2) -(window_height/2)"
   ]
  },
  {
   "cell_type": "code",
   "execution_count": 16,
   "id": "6c5b4f2a",
   "metadata": {},
   "outputs": [
    {
     "data": {
      "text/plain": [
       "''"
      ]
     },
     "execution_count": 16,
     "metadata": {},
     "output_type": "execute_result"
    }
   ],
   "source": [
    "window.geometry(f\"{int(window_width)}x{int(window_height)}+{int(x)}+{int(y)}\")\n"
   ]
  },
  {
   "cell_type": "code",
   "execution_count": 17,
   "id": "4cc8b251",
   "metadata": {},
   "outputs": [
    {
     "data": {
      "text/plain": [
       "'4431961728<lambda>'"
      ]
     },
     "execution_count": 17,
     "metadata": {},
     "output_type": "execute_result"
    }
   ],
   "source": [
    "window.bind('<Left>', lambda event: change_direction('left'))\n",
    "window.bind('<Right>', lambda event: change_direction('right'))\n",
    "window.bind('<Up>', lambda event: change_direction('up'))\n",
    "window.bind('<Down>', lambda event: change_direction('down'))"
   ]
  },
  {
   "cell_type": "code",
   "execution_count": 18,
   "id": "9e055795",
   "metadata": {},
   "outputs": [],
   "source": [
    "snake = Snake()\n",
    "food = Food()\n",
    "next_turn(snake, food)"
   ]
  },
  {
   "cell_type": "code",
   "execution_count": null,
   "id": "980a9a6c",
   "metadata": {},
   "outputs": [
    {
     "name": "stdout",
     "output_type": "stream",
     "text": [
      "GAME OVER\n"
     ]
    }
   ],
   "source": [
    "window.mainloop()"
   ]
  },
  {
   "cell_type": "code",
   "execution_count": null,
   "id": "6b8cdcac",
   "metadata": {},
   "outputs": [],
   "source": []
  },
  {
   "cell_type": "code",
   "execution_count": null,
   "id": "0e4f1cf3",
   "metadata": {},
   "outputs": [],
   "source": []
  }
 ],
 "metadata": {
  "kernelspec": {
   "display_name": "Python 3 (ipykernel)",
   "language": "python",
   "name": "python3"
  },
  "language_info": {
   "codemirror_mode": {
    "name": "ipython",
    "version": 3
   },
   "file_extension": ".py",
   "mimetype": "text/x-python",
   "name": "python",
   "nbconvert_exporter": "python",
   "pygments_lexer": "ipython3",
   "version": "3.11.5"
  }
 },
 "nbformat": 4,
 "nbformat_minor": 5
}
